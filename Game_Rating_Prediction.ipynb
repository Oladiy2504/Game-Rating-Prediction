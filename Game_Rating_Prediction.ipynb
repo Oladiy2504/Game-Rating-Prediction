{
  "nbformat": 4,
  "nbformat_minor": 0,
  "metadata": {
    "colab": {
      "provenance": []
    },
    "kernelspec": {
      "name": "python3",
      "display_name": "Python 3"
    },
    "language_info": {
      "name": "python"
    }
  },
  "cells": [
    {
      "cell_type": "markdown",
      "source": [
        "# Импорт библиотек"
      ],
      "metadata": {
        "id": "mAlfHxd07SUV"
      }
    },
    {
      "cell_type": "code",
      "source": [
        "%pip install category_encoders"
      ],
      "metadata": {
        "colab": {
          "base_uri": "https://localhost:8080/"
        },
        "id": "Bh_d6ZxlBpe_",
        "outputId": "f9e10572-4a2d-4c55-b9a4-59613db8e1ce",
        "collapsed": true
      },
      "execution_count": 1,
      "outputs": [
        {
          "output_type": "stream",
          "name": "stdout",
          "text": [
            "Requirement already satisfied: category_encoders in /usr/local/lib/python3.11/dist-packages (2.8.1)\n",
            "Requirement already satisfied: numpy>=1.14.0 in /usr/local/lib/python3.11/dist-packages (from category_encoders) (1.26.4)\n",
            "Requirement already satisfied: pandas>=1.0.5 in /usr/local/lib/python3.11/dist-packages (from category_encoders) (2.2.2)\n",
            "Requirement already satisfied: patsy>=0.5.1 in /usr/local/lib/python3.11/dist-packages (from category_encoders) (1.0.1)\n",
            "Requirement already satisfied: scikit-learn>=1.6.0 in /usr/local/lib/python3.11/dist-packages (from category_encoders) (1.6.1)\n",
            "Requirement already satisfied: scipy>=1.0.0 in /usr/local/lib/python3.11/dist-packages (from category_encoders) (1.15.2)\n",
            "Requirement already satisfied: statsmodels>=0.9.0 in /usr/local/lib/python3.11/dist-packages (from category_encoders) (0.14.4)\n",
            "Requirement already satisfied: python-dateutil>=2.8.2 in /usr/local/lib/python3.11/dist-packages (from pandas>=1.0.5->category_encoders) (2.8.2)\n",
            "Requirement already satisfied: pytz>=2020.1 in /usr/local/lib/python3.11/dist-packages (from pandas>=1.0.5->category_encoders) (2025.1)\n",
            "Requirement already satisfied: tzdata>=2022.7 in /usr/local/lib/python3.11/dist-packages (from pandas>=1.0.5->category_encoders) (2025.1)\n",
            "Requirement already satisfied: joblib>=1.2.0 in /usr/local/lib/python3.11/dist-packages (from scikit-learn>=1.6.0->category_encoders) (1.4.2)\n",
            "Requirement already satisfied: threadpoolctl>=3.1.0 in /usr/local/lib/python3.11/dist-packages (from scikit-learn>=1.6.0->category_encoders) (3.6.0)\n",
            "Requirement already satisfied: packaging>=21.3 in /usr/local/lib/python3.11/dist-packages (from statsmodels>=0.9.0->category_encoders) (24.2)\n",
            "Requirement already satisfied: six>=1.5 in /usr/local/lib/python3.11/dist-packages (from python-dateutil>=2.8.2->pandas>=1.0.5->category_encoders) (1.17.0)\n"
          ]
        }
      ]
    },
    {
      "cell_type": "code",
      "execution_count": 33,
      "metadata": {
        "id": "c6y0eszx7J6M"
      },
      "outputs": [],
      "source": [
        "import category_encoders as ce\n",
        "from datetime import datetime\n",
        "from itertools import chain\n",
        "from collections import Counter\n",
        "from re import split\n",
        "import gdown\n",
        "import matplotlib.pyplot as plt\n",
        "import numpy as np\n",
        "import pandas as pd\n",
        "import seaborn as sns\n",
        "import sklearn as sk\n",
        "import sklearn.preprocessing as sklp\n",
        "import sklearn.model_selection as skms\n",
        "import sklearn.metrics as skmtr\n",
        "import sklearn.linear_model as sklm\n",
        "from sklearn.linear_model import Ridge\n",
        "from sklearn.model_selection import GridSearchCV, RandomizedSearchCV\n",
        "from sklearn.tree import DecisionTreeRegressor\n",
        "from sklearn.ensemble import GradientBoostingRegressor"
      ]
    },
    {
      "cell_type": "markdown",
      "source": [
        "# Загрузка и обработка данных"
      ],
      "metadata": {
        "id": "EmFbZ5u0765n"
      }
    },
    {
      "cell_type": "markdown",
      "source": [
        "## Общая подготовка датасетов"
      ],
      "metadata": {
        "id": "ZNi1BZcMCftS"
      }
    },
    {
      "cell_type": "code",
      "source": [
        "file_id = \"1_sYqRu_in8ZBzh7LcnJl1yK7cGVNzDpa\"\n",
        "url = f\"https://drive.google.com/uc?id={file_id}\"\n",
        "output = \"metacritic_games.csv\"\n",
        "gdown.download(url, output, quiet=False)"
      ],
      "metadata": {
        "colab": {
          "base_uri": "https://localhost:8080/",
          "height": 105
        },
        "id": "9_riYWa88bNf",
        "outputId": "658e44cd-c594-44a7-9086-33b050fe9bcf"
      },
      "execution_count": 3,
      "outputs": [
        {
          "output_type": "stream",
          "name": "stderr",
          "text": [
            "Downloading...\n",
            "From: https://drive.google.com/uc?id=1_sYqRu_in8ZBzh7LcnJl1yK7cGVNzDpa\n",
            "To: /content/metacritic_games.csv\n",
            "100%|██████████| 14.4M/14.4M [00:00<00:00, 98.7MB/s]\n"
          ]
        },
        {
          "output_type": "execute_result",
          "data": {
            "text/plain": [
              "'metacritic_games.csv'"
            ],
            "application/vnd.google.colaboratory.intrinsic+json": {
              "type": "string"
            }
          },
          "metadata": {},
          "execution_count": 3
        }
      ]
    },
    {
      "cell_type": "code",
      "source": [
        "file_id = \"1Fa9i118HY2GMswSKENrv6SCZpWnsnTqW\"\n",
        "url = f\"https://drive.google.com/uc?id={file_id}\"\n",
        "output = \"metacritic_reviews.csv\"\n",
        "gdown.download(url, output, quiet=False)"
      ],
      "metadata": {
        "colab": {
          "base_uri": "https://localhost:8080/",
          "height": 122
        },
        "id": "Um8NGgdp7P3i",
        "outputId": "f0e8c27f-11e1-471c-8f85-ab4d07227317"
      },
      "execution_count": 4,
      "outputs": [
        {
          "output_type": "stream",
          "name": "stderr",
          "text": [
            "Downloading...\n",
            "From (original): https://drive.google.com/uc?id=1Fa9i118HY2GMswSKENrv6SCZpWnsnTqW\n",
            "From (redirected): https://drive.google.com/uc?id=1Fa9i118HY2GMswSKENrv6SCZpWnsnTqW&confirm=t&uuid=2ed1ff6a-8cf0-439a-9e70-7b706d666dae\n",
            "To: /content/metacritic_reviews.csv\n",
            "100%|██████████| 280M/280M [00:03<00:00, 79.8MB/s]\n"
          ]
        },
        {
          "output_type": "execute_result",
          "data": {
            "text/plain": [
              "'metacritic_reviews.csv'"
            ],
            "application/vnd.google.colaboratory.intrinsic+json": {
              "type": "string"
            }
          },
          "metadata": {},
          "execution_count": 4
        }
      ]
    },
    {
      "cell_type": "markdown",
      "source": [
        "Для начала обработаем основной датасет. Уберём ненужные столбцы и удалим строки с пропусками данных. Затем переведём значения userscore в целочисленный диапазон от 0 до 100 и переформируем колонку release date в year типа int."
      ],
      "metadata": {
        "id": "dOf3O6g2aCAQ"
      }
    },
    {
      "cell_type": "code",
      "source": [
        "metacritic_games = pd.read_csv('metacritic_games.csv', sep=',')\n",
        "\n",
        "cols_to_drop = ['esrb_rating', 'ESRBs', 'num_players', 'user_reviews', 'critic_reviews', 'summary', 'metascore']\n",
        "metacritic_games = metacritic_games.drop(columns=cols_to_drop)\n",
        "new_columns = ['id', 'title', 'year', 'genre', 'platform', 'developer', 'userscore']\n",
        "metacritic_games.columns = new_columns\n",
        "metacritic_games = metacritic_games.drop(columns='id')\n",
        "\n",
        "metacritic_games['year'] = pd.to_datetime(metacritic_games['year'], format=\"%b %d, %Y\", errors='coerce')\n",
        "metacritic_games['userscore'] = metacritic_games['userscore'].replace('tbd', None)\n",
        "\n",
        "metacritic_games['genre'] = metacritic_games['genre'].replace(' ', None)\n",
        "\n",
        "metacritic_games = metacritic_games.dropna()\n",
        "\n",
        "metacritic_games['userscore'] = metacritic_games['userscore'].astype(float)\n",
        "metacritic_games['year'] = metacritic_games['year'].apply(lambda x: x.year).astype(int)\n",
        "\n",
        "metacritic_games.info()"
      ],
      "metadata": {
        "colab": {
          "base_uri": "https://localhost:8080/"
        },
        "id": "oRX5suJVVVm-",
        "outputId": "c46b6dfc-16ea-426d-828b-e4203109ffea"
      },
      "execution_count": 5,
      "outputs": [
        {
          "output_type": "stream",
          "name": "stdout",
          "text": [
            "<class 'pandas.core.frame.DataFrame'>\n",
            "Index: 17929 entries, 0 to 19316\n",
            "Data columns (total 6 columns):\n",
            " #   Column     Non-Null Count  Dtype  \n",
            "---  ------     --------------  -----  \n",
            " 0   title      17929 non-null  object \n",
            " 1   year       17929 non-null  int64  \n",
            " 2   genre      17929 non-null  object \n",
            " 3   platform   17929 non-null  object \n",
            " 4   developer  17929 non-null  object \n",
            " 5   userscore  17929 non-null  float64\n",
            "dtypes: float64(1), int64(1), object(4)\n",
            "memory usage: 980.5+ KB\n"
          ]
        }
      ]
    },
    {
      "cell_type": "markdown",
      "source": [
        "## Обработка категориальных признаков"
      ],
      "metadata": {
        "id": "9Ux2RXapFRlQ"
      }
    },
    {
      "cell_type": "markdown",
      "source": [
        "Выведем количества уникальных значений для категориальных признаков:"
      ],
      "metadata": {
        "id": "ocr502imE2oX"
      }
    },
    {
      "cell_type": "code",
      "source": [
        "print(f\"Unique developer count: {len(metacritic_games['developer'].unique())}\")\n",
        "print(f\"Unique platform count: {len(metacritic_games['platform'].unique())}\")\n",
        "print(f\"Unique genres combination count: {len(metacritic_games['genre'].unique())}\")\n",
        "print(f\"Unique year count: {len(metacritic_games['year'].unique())}\")"
      ],
      "metadata": {
        "colab": {
          "base_uri": "https://localhost:8080/"
        },
        "id": "uanOvqC_EVzb",
        "outputId": "3f9863df-13cb-4714-ad5b-b25bc413ea6a"
      },
      "execution_count": 6,
      "outputs": [
        {
          "output_type": "stream",
          "name": "stdout",
          "text": [
            "Unique developer count: 4376\n",
            "Unique platform count: 22\n",
            "Unique genres combination count: 2151\n",
            "Unique year count: 28\n"
          ]
        }
      ]
    },
    {
      "cell_type": "markdown",
      "source": [
        "Из соображений безопасности создадим рабочую копию датасета:"
      ],
      "metadata": {
        "id": "iihC97dwFoYY"
      }
    },
    {
      "cell_type": "code",
      "source": [
        "prediction_df = metacritic_games.copy()"
      ],
      "metadata": {
        "id": "qpP4vFsVFmmk"
      },
      "execution_count": 7,
      "outputs": []
    },
    {
      "cell_type": "markdown",
      "source": [
        "Для столбца platform  подойдет One-Hot Encoder, так как уникальных значений платформ всего 22, то есть мы не очень сильно увеличим размерность данных.\n",
        "\n",
        "Аналогично с годом выпуска игр"
      ],
      "metadata": {
        "id": "stcM0MhB_wYt"
      }
    },
    {
      "cell_type": "code",
      "source": [
        "prediction_df = pd.get_dummies(prediction_df, columns=['platform'], drop_first=True)\n",
        "prediction_df = pd.get_dummies(prediction_df, columns=['year'], drop_first=True)"
      ],
      "metadata": {
        "collapsed": true,
        "id": "xS7u4157_zXk"
      },
      "execution_count": 8,
      "outputs": []
    },
    {
      "cell_type": "markdown",
      "source": [
        "Посмотрим на распределение количества выпущенных разработчиками игр:"
      ],
      "metadata": {
        "id": "xEh6zJqw5JN6"
      }
    },
    {
      "cell_type": "code",
      "source": [
        "df_counts = prediction_df['developer'].value_counts().reset_index()\n",
        "plt.hist(df_counts['count'], bins=50, color='tab:olive', linewidth=0.8, edgecolor='black')\n",
        "plt.xticks(list(np.arange(0, 100, 15)) + list(np.arange(110, 350, 40)))\n",
        "plt.yscale('log')\n",
        "plt.xlabel(\"Games released\")\n",
        "plt.ylabel(\"Developer count (log)\")\n",
        "plt.title(\"Distribution of released games\")\n",
        "plt.show()"
      ],
      "metadata": {
        "colab": {
          "base_uri": "https://localhost:8080/",
          "height": 472
        },
        "id": "NWzTvT9PL0YR",
        "outputId": "270c406c-c636-494b-881b-9407db4bae49"
      },
      "execution_count": 9,
      "outputs": [
        {
          "output_type": "display_data",
          "data": {
            "text/plain": [
              "<Figure size 640x480 with 1 Axes>"
            ],
            "image/png": "[encoded data removed]"
          },
          "metadata": {}
        }
      ]
    },
    {
      "cell_type": "markdown",
      "source": [
        "Сделаем следующее: выделим несколько групп студий по количеству выпущенных игр и запишем для них в столбец developer название группы."
      ],
      "metadata": {
        "id": "TyccEDn4RD5f"
      }
    },
    {
      "cell_type": "code",
      "source": [
        "prediction_df['count'] = prediction_df['developer'].map(prediction_df['developer'].value_counts())\n",
        "prediction_df.loc[prediction_df['count'] <= 75, 'developer'] = 'other0'\n",
        "prediction_df.loc[prediction_df['count'] <= 50, 'developer'] = 'other1'\n",
        "prediction_df.loc[prediction_df['count'] <= 40, 'developer'] = 'other2'\n",
        "prediction_df.loc[prediction_df['count'] <= 30, 'developer'] = 'other3'\n",
        "prediction_df.loc[prediction_df['count'] <= 20, 'developer'] = 'other4'\n",
        "prediction_df.loc[prediction_df['count'] <= 15, 'developer'] = 'other5'\n",
        "prediction_df.loc[prediction_df['count'] <= 10, 'developer'] = 'other6'\n",
        "prediction_df.loc[prediction_df['count'] <= 5, 'developer'] = 'other7'\n",
        "prediction_df.loc[prediction_df['count'] <= 3, 'developer'] = 'other8'\n",
        "prediction_df.loc[prediction_df['count'] <= 2, 'developer'] = 'other9'\n",
        "prediction_df.loc[prediction_df['count'] <= 1, 'developer'] = 'other10'\n",
        "prediction_df = prediction_df.drop(columns='count')\n",
        "\n",
        "print(f\"Unique developer count: {len(prediction_df['developer'].unique())}\")"
      ],
      "metadata": {
        "id": "rxwXZXq4OIoL",
        "collapsed": true,
        "colab": {
          "base_uri": "https://localhost:8080/"
        },
        "outputId": "5b6bc636-c95c-41d5-9396-495ca853800e"
      },
      "execution_count": 10,
      "outputs": [
        {
          "output_type": "stream",
          "name": "stdout",
          "text": [
            "Unique developer count: 26\n"
          ]
        }
      ]
    },
    {
      "cell_type": "markdown",
      "source": [
        "Теперь у нас всего 26 уникальных значений в столбце developer, 15 из которых отвечают за самые крупные студии, тогда как 11 соответствуют выделенным группам разработчиков."
      ],
      "metadata": {
        "id": "ln2IW53Y6MU3"
      }
    },
    {
      "cell_type": "code",
      "source": [
        "prediction_df = pd.get_dummies(prediction_df, columns=['developer'], drop_first=True)"
      ],
      "metadata": {
        "id": "29kpt0INMUHi"
      },
      "execution_count": 11,
      "outputs": []
    },
    {
      "cell_type": "markdown",
      "source": [
        "Подготовим столбец genre. Каждой игре соответствует несколько жанров, поэтому необходимо обработать данные. Убедимся, что названия жанров в ячейках не повторяются и не содержат лишних символов. Затем объединим их в строки с разделителем, чтобы применить аналог OHE."
      ],
      "metadata": {
        "id": "MNM_fsQQ7prJ"
      }
    },
    {
      "cell_type": "code",
      "source": [
        "prediction_df['genre'] = prediction_df['genre'].apply(lambda x: list(set(split(r'[ ,]{2,}', x))))\n",
        "prediction_df['genre'] = prediction_df['genre'].apply(lambda x: list(map(lambda x: x.strip(','), x)))\n",
        "prediction_df['genre'] = prediction_df['genre'].apply(lambda x: '|'.join(x))\n",
        "genre_OHE_df = prediction_df['genre'].str.get_dummies(sep='|')\n",
        "genre_OHE_df.head(5)"
      ],
      "metadata": {
        "id": "ckgXuoSQ8OBQ",
        "colab": {
          "base_uri": "https://localhost:8080/",
          "height": 235
        },
        "outputId": "47bf6dfe-9b32-4557-c241-249522184985"
      },
      "execution_count": 12,
      "outputs": [
        {
          "output_type": "execute_result",
          "data": {
            "text/plain": [
              "   2D  3D  4X  Action  Action Adventure  Action RPG  Adventure  Alternative  \\\n",
              "0   0   0   0       0                 0           0          0            0   \n",
              "1   0   1   0       1                 0           0          0            0   \n",
              "2   0   0   0       0                 1           0          0            0   \n",
              "3   0   0   0       0                 1           0          0            0   \n",
              "4   0   0   0       1                 0           0          0            0   \n",
              "\n",
              "   Application  Arcade  ...  Virtual  Virtual Life  Visual Novel  Volleyball  \\\n",
              "0            0       1  ...        0             0             0           0   \n",
              "1            0       0  ...        0             0             0           0   \n",
              "2            0       0  ...        0             0             0           0   \n",
              "3            0       0  ...        0             0             0           0   \n",
              "4            0       1  ...        0             0             0           0   \n",
              "\n",
              "   WWI  WWII  Wakeboarding  Wargame  Western-Style  Wrestling  \n",
              "0    0     0             0        0              0          0  \n",
              "1    0     0             0        0              0          0  \n",
              "2    0     0             0        0              0          0  \n",
              "3    0     0             0        0              0          0  \n",
              "4    0     0             0        0              0          0  \n",
              "\n",
              "[5 rows x 170 columns]"
            ],
            "text/html": [
              "\n",
              "  <div id=\"df-d707eea2-47a9-4b30-8f55-4431100ddcf5\" class=\"colab-df-container\">\n",
              "    <div>\n",
              "<style scoped>\n",
              "    .dataframe tbody tr th:only-of-type {\n",
              "        vertical-align: middle;\n",
              "    }\n",
              "\n",
              "    .dataframe tbody tr th {\n",
              "        vertical-align: top;\n",
              "    }\n",
              "\n",
              "    .dataframe thead th {\n",
              "        text-align: right;\n",
              "    }\n",
              "</style>\n",
              "<table border=\"1\" class=\"dataframe\">\n",
              "  <thead>\n",
              "    <tr style=\"text-align: right;\">\n",
              "      <th></th>\n",
              "      <th>2D</th>\n",
              "      <th>3D</th>\n",
              "      <th>4X</th>\n",
              "      <th>Action</th>\n",
              "      <th>Action Adventure</th>\n",
              "      <th>Action RPG</th>\n",
              "      <th>Adventure</th>\n",
              "      <th>Alternative</th>\n",
              "      <th>Application</th>\n",
              "      <th>Arcade</th>\n",
              "      <th>...</th>\n",
              "      <th>Virtual</th>\n",
              "      <th>Virtual Life</th>\n",
              "      <th>Visual Novel</th>\n",
              "      <th>Volleyball</th>\n",
              "      <th>WWI</th>\n",
              "      <th>WWII</th>\n",
              "      <th>Wakeboarding</th>\n",
              "      <th>Wargame</th>\n",
              "      <th>Western-Style</th>\n",
              "      <th>Wrestling</th>\n",
              "    </tr>\n",
              "  </thead>\n",
              "  <tbody>\n",
              "    <tr>\n",
              "      <th>0</th>\n",
              "      <td>0</td>\n",
              "      <td>0</td>\n",
              "      <td>0</td>\n",
              "      <td>0</td>\n",
              "      <td>0</td>\n",
              "      <td>0</td>\n",
              "      <td>0</td>\n",
              "      <td>0</td>\n",
              "      <td>0</td>\n",
              "      <td>1</td>\n",
              "      <td>...</td>\n",
              "      <td>0</td>\n",
              "      <td>0</td>\n",
              "      <td>0</td>\n",
              "      <td>0</td>\n",
              "      <td>0</td>\n",
              "      <td>0</td>\n",
              "      <td>0</td>\n",
              "      <td>0</td>\n",
              "      <td>0</td>\n",
              "      <td>0</td>\n",
              "    </tr>\n",
              "    <tr>\n",
              "      <th>1</th>\n",
              "      <td>0</td>\n",
              "      <td>1</td>\n",
              "      <td>0</td>\n",
              "      <td>1</td>\n",
              "      <td>0</td>\n",
              "      <td>0</td>\n",
              "      <td>0</td>\n",
              "      <td>0</td>\n",
              "      <td>0</td>\n",
              "      <td>0</td>\n",
              "      <td>...</td>\n",
              "      <td>0</td>\n",
              "      <td>0</td>\n",
              "      <td>0</td>\n",
              "      <td>0</td>\n",
              "      <td>0</td>\n",
              "      <td>0</td>\n",
              "      <td>0</td>\n",
              "      <td>0</td>\n",
              "      <td>0</td>\n",
              "      <td>0</td>\n",
              "    </tr>\n",
              "    <tr>\n",
              "      <th>2</th>\n",
              "      <td>0</td>\n",
              "      <td>0</td>\n",
              "      <td>0</td>\n",
              "      <td>0</td>\n",
              "      <td>1</td>\n",
              "      <td>0</td>\n",
              "      <td>0</td>\n",
              "      <td>0</td>\n",
              "      <td>0</td>\n",
              "      <td>0</td>\n",
              "      <td>...</td>\n",
              "      <td>0</td>\n",
              "      <td>0</td>\n",
              "      <td>0</td>\n",
              "      <td>0</td>\n",
              "      <td>0</td>\n",
              "      <td>0</td>\n",
              "      <td>0</td>\n",
              "      <td>0</td>\n",
              "      <td>0</td>\n",
              "      <td>0</td>\n",
              "    </tr>\n",
              "    <tr>\n",
              "      <th>3</th>\n",
              "      <td>0</td>\n",
              "      <td>0</td>\n",
              "      <td>0</td>\n",
              "      <td>0</td>\n",
              "      <td>1</td>\n",
              "      <td>0</td>\n",
              "      <td>0</td>\n",
              "      <td>0</td>\n",
              "      <td>0</td>\n",
              "      <td>0</td>\n",
              "      <td>...</td>\n",
              "      <td>0</td>\n",
              "      <td>0</td>\n",
              "      <td>0</td>\n",
              "      <td>0</td>\n",
              "      <td>0</td>\n",
              "      <td>0</td>\n",
              "      <td>0</td>\n",
              "      <td>0</td>\n",
              "      <td>0</td>\n",
              "      <td>0</td>\n",
              "    </tr>\n",
              "    <tr>\n",
              "      <th>4</th>\n",
              "      <td>0</td>\n",
              "      <td>0</td>\n",
              "      <td>0</td>\n",
              "      <td>1</td>\n",
              "      <td>0</td>\n",
              "      <td>0</td>\n",
              "      <td>0</td>\n",
              "      <td>0</td>\n",
              "      <td>0</td>\n",
              "      <td>1</td>\n",
              "      <td>...</td>\n",
              "      <td>0</td>\n",
              "      <td>0</td>\n",
              "      <td>0</td>\n",
              "      <td>0</td>\n",
              "      <td>0</td>\n",
              "      <td>0</td>\n",
              "      <td>0</td>\n",
              "      <td>0</td>\n",
              "      <td>0</td>\n",
              "      <td>0</td>\n",
              "    </tr>\n",
              "  </tbody>\n",
              "</table>\n",
              "<p>5 rows × 170 columns</p>\n",
              "</div>\n",
              "    <div class=\"colab-df-buttons\">\n",
              "\n",
              "  <div class=\"colab-df-container\">\n",
              "    <button class=\"colab-df-convert\" onclick=\"convertToInteractive('df-d707eea2-47a9-4b30-8f55-4431100ddcf5')\"\n",
              "            title=\"Convert this dataframe to an interactive table.\"\n",
              "            style=\"display:none;\">\n",
              "\n",
              "  <svg xmlns=\"http://www.w3.org/2000/svg\" height=\"24px\" viewBox=\"0 -960 960 960\">\n",
              "    <path d=\"M120-120v-720h720v720H120Zm60-500h600v-160H180v160Zm220 220h160v-160H400v160Zm0 220h160v-160H400v160ZM180-400h160v-160H180v160Zm440 0h160v-160H620v160ZM180-180h160v-160H180v160Zm440 0h160v-160H620v160Z\"/>\n",
              "  </svg>\n",
              "    </button>\n",
              "\n",
              "  <style>\n",
              "    .colab-df-container {\n",
              "      display:flex;\n",
              "      gap: 12px;\n",
              "    }\n",
              "\n",
              "    .colab-df-convert {\n",
              "      background-color: #E8F0FE;\n",
              "      border: none;\n",
              "      border-radius: 50%;\n",
              "      cursor: pointer;\n",
              "      display: none;\n",
              "      fill: #1967D2;\n",
              "      height: 32px;\n",
              "      padding: 0 0 0 0;\n",
              "      width: 32px;\n",
              "    }\n",
              "\n",
              "    .colab-df-convert:hover {\n",
              "      background-color: #E2EBFA;\n",
              "      box-shadow: 0px 1px 2px rgba(60, 64, 67, 0.3), 0px 1px 3px 1px rgba(60, 64, 67, 0.15);\n",
              "      fill: #174EA6;\n",
              "    }\n",
              "\n",
              "    .colab-df-buttons div {\n",
              "      margin-bottom: 4px;\n",
              "    }\n",
              "\n",
              "    [theme=dark] .colab-df-convert {\n",
              "      background-color: #3B4455;\n",
              "      fill: #D2E3FC;\n",
              "    }\n",
              "\n",
              "    [theme=dark] .colab-df-convert:hover {\n",
              "      background-color: #434B5C;\n",
              "      box-shadow: 0px 1px 3px 1px rgba(0, 0, 0, 0.15);\n",
              "      filter: drop-shadow(0px 1px 2px rgba(0, 0, 0, 0.3));\n",
              "      fill: #FFFFFF;\n",
              "    }\n",
              "  </style>\n",
              "\n",
              "    <script>\n",
              "      const buttonEl =\n",
              "        document.querySelector('#df-d707eea2-47a9-4b30-8f55-4431100ddcf5 button.colab-df-convert');\n",
              "      buttonEl.style.display =\n",
              "        google.colab.kernel.accessAllowed ? 'block' : 'none';\n",
              "\n",
              "      async function convertToInteractive(key) {\n",
              "        const element = document.querySelector('#df-d707eea2-47a9-4b30-8f55-4431100ddcf5');\n",
              "        const dataTable =\n",
              "          await google.colab.kernel.invokeFunction('convertToInteractive',\n",
              "                                                    [key], {});\n",
              "        if (!dataTable) return;\n",
              "\n",
              "        const docLinkHtml = 'Like what you see? Visit the ' +\n",
              "          '<a target=\"_blank\" href=https://colab.research.google.com/notebooks/data_table.ipynb>data table notebook</a>'\n",
              "          + ' to learn more about interactive tables.';\n",
              "        element.innerHTML = '';\n",
              "        dataTable['output_type'] = 'display_data';\n",
              "        await google.colab.output.renderOutput(dataTable, element);\n",
              "        const docLink = document.createElement('div');\n",
              "        docLink.innerHTML = docLinkHtml;\n",
              "        element.appendChild(docLink);\n",
              "      }\n",
              "    </script>\n",
              "  </div>\n",
              "\n",
              "\n",
              "<div id=\"df-faec6641-cf27-498a-8879-87e2e7dd9476\">\n",
              "  <button class=\"colab-df-quickchart\" onclick=\"quickchart('df-faec6641-cf27-498a-8879-87e2e7dd9476')\"\n",
              "            title=\"Suggest charts\"\n",
              "            style=\"display:none;\">\n",
              "\n",
              "<svg xmlns=\"http://www.w3.org/2000/svg\" height=\"24px\"viewBox=\"0 0 24 24\"\n",
              "     width=\"24px\">\n",
              "    <g>\n",
              "        <path d=\"M19 3H5c-1.1 0-2 .9-2 2v14c0 1.1.9 2 2 2h14c1.1 0 2-.9 2-2V5c0-1.1-.9-2-2-2zM9 17H7v-7h2v7zm4 0h-2V7h2v10zm4 0h-2v-4h2v4z\"/>\n",
              "    </g>\n",
              "</svg>\n",
              "  </button>\n",
              "\n",
              "<style>\n",
              "  .colab-df-quickchart {\n",
              "      --bg-color: #E8F0FE;\n",
              "      --fill-color: #1967D2;\n",
              "      --hover-bg-color: #E2EBFA;\n",
              "      --hover-fill-color: #174EA6;\n",
              "      --disabled-fill-color: #AAA;\n",
              "      --disabled-bg-color: #DDD;\n",
              "  }\n",
              "\n",
              "  [theme=dark] .colab-df-quickchart {\n",
              "      --bg-color: #3B4455;\n",
              "      --fill-color: #D2E3FC;\n",
              "      --hover-bg-color: #434B5C;\n",
              "      --hover-fill-color: #FFFFFF;\n",
              "      --disabled-bg-color: #3B4455;\n",
              "      --disabled-fill-color: #666;\n",
              "  }\n",
              "\n",
              "  .colab-df-quickchart {\n",
              "    background-color: var(--bg-color);\n",
              "    border: none;\n",
              "    border-radius: 50%;\n",
              "    cursor: pointer;\n",
              "    display: none;\n",
              "    fill: var(--fill-color);\n",
              "    height: 32px;\n",
              "    padding: 0;\n",
              "    width: 32px;\n",
              "  }\n",
              "\n",
              "  .colab-df-quickchart:hover {\n",
              "    background-color: var(--hover-bg-color);\n",
              "    box-shadow: 0 1px 2px rgba(60, 64, 67, 0.3), 0 1px 3px 1px rgba(60, 64, 67, 0.15);\n",
              "    fill: var(--button-hover-fill-color);\n",
              "  }\n",
              "\n",
              "  .colab-df-quickchart-complete:disabled,\n",
              "  .colab-df-quickchart-complete:disabled:hover {\n",
              "    background-color: var(--disabled-bg-color);\n",
              "    fill: var(--disabled-fill-color);\n",
              "    box-shadow: none;\n",
              "  }\n",
              "\n",
              "  .colab-df-spinner {\n",
              "    border: 2px solid var(--fill-color);\n",
              "    border-color: transparent;\n",
              "    border-bottom-color: var(--fill-color);\n",
              "    animation:\n",
              "      spin 1s steps(1) infinite;\n",
              "  }\n",
              "\n",
              "  @keyframes spin {\n",
              "    0% {\n",
              "      border-color: transparent;\n",
              "      border-bottom-color: var(--fill-color);\n",
              "      border-left-color: var(--fill-color);\n",
              "    }\n",
              "    20% {\n",
              "      border-color: transparent;\n",
              "      border-left-color: var(--fill-color);\n",
              "      border-top-color: var(--fill-color);\n",
              "    }\n",
              "    30% {\n",
              "      border-color: transparent;\n",
              "      border-left-color: var(--fill-color);\n",
              "      border-top-color: var(--fill-color);\n",
              "      border-right-color: var(--fill-color);\n",
              "    }\n",
              "    40% {\n",
              "      border-color: transparent;\n",
              "      border-right-color: var(--fill-color);\n",
              "      border-top-color: var(--fill-color);\n",
              "    }\n",
              "    60% {\n",
              "      border-color: transparent;\n",
              "      border-right-color: var(--fill-color);\n",
              "    }\n",
              "    80% {\n",
              "      border-color: transparent;\n",
              "      border-right-color: var(--fill-color);\n",
              "      border-bottom-color: var(--fill-color);\n",
              "    }\n",
              "    90% {\n",
              "      border-color: transparent;\n",
              "      border-bottom-color: var(--fill-color);\n",
              "    }\n",
              "  }\n",
              "</style>\n",
              "\n",
              "  <script>\n",
              "    async function quickchart(key) {\n",
              "      const quickchartButtonEl =\n",
              "        document.querySelector('#' + key + ' button');\n",
              "      quickchartButtonEl.disabled = true;  // To prevent multiple clicks.\n",
              "      quickchartButtonEl.classList.add('colab-df-spinner');\n",
              "      try {\n",
              "        const charts = await google.colab.kernel.invokeFunction(\n",
              "            'suggestCharts', [key], {});\n",
              "      } catch (error) {\n",
              "        console.error('Error during call to suggestCharts:', error);\n",
              "      }\n",
              "      quickchartButtonEl.classList.remove('colab-df-spinner');\n",
              "      quickchartButtonEl.classList.add('colab-df-quickchart-complete');\n",
              "    }\n",
              "    (() => {\n",
              "      let quickchartButtonEl =\n",
              "        document.querySelector('#df-faec6641-cf27-498a-8879-87e2e7dd9476 button');\n",
              "      quickchartButtonEl.style.display =\n",
              "        google.colab.kernel.accessAllowed ? 'block' : 'none';\n",
              "    })();\n",
              "  </script>\n",
              "</div>\n",
              "    </div>\n",
              "  </div>\n"
            ],
            "application/vnd.google.colaboratory.intrinsic+json": {
              "type": "dataframe",
              "variable_name": "genre_OHE_df"
            }
          },
          "metadata": {},
          "execution_count": 12
        }
      ]
    },
    {
      "cell_type": "markdown",
      "source": [
        "Добавим полученные столбцы в датасет:"
      ],
      "metadata": {
        "id": "fuM660Pa8vLs"
      }
    },
    {
      "cell_type": "code",
      "source": [
        "prediction_df = prediction_df.join(genre_OHE_df)"
      ],
      "metadata": {
        "id": "LUSq_vPDZwWZ"
      },
      "execution_count": 13,
      "outputs": []
    },
    {
      "cell_type": "markdown",
      "source": [
        "Выведем полученный датасет:"
      ],
      "metadata": {
        "id": "fBeZOU0rEpEe"
      }
    },
    {
      "cell_type": "code",
      "source": [
        "prediction_df"
      ],
      "metadata": {
        "colab": {
          "base_uri": "https://localhost:8080/",
          "height": 947
        },
        "collapsed": true,
        "id": "G9vsUob7S_7k",
        "outputId": "43ef8dff-391c-47b5-b30f-dfb2b8ac4f14"
      },
      "execution_count": 14,
      "outputs": [
        {
          "output_type": "execute_result",
          "data": {
            "text/plain": [
              "                                              title  \\\n",
              "0                               Burnout 3: Takedown   \n",
              "1                                   Jet Grind Radio   \n",
              "2          Metal Gear Solid 4: Guns of the Patriots   \n",
              "3           Tom Clancy's Splinter Cell Chaos Theory   \n",
              "4                    Call of Duty: Modern Warfare 2   \n",
              "...                                             ...   \n",
              "19312  Family Party: 30 Great Games Obstacle Arcade   \n",
              "19313                     Ride to Hell: Retribution   \n",
              "19314                       Far Cry 5: Lost on Mars   \n",
              "19315                                    Smash T.V.   \n",
              "19316      JoJo's Bizarre Adventure: Eyes of Heaven   \n",
              "\n",
              "                                                   genre  userscore  \\\n",
              "0                                  Racing|Arcade|Driving        7.7   \n",
              "1                                   Action|Platformer|3D        8.3   \n",
              "2                        Modern|Action Adventure|General        8.8   \n",
              "3                                Modern|Action Adventure        9.1   \n",
              "4              Action|First-Person|Modern|Shooter|Arcade        6.6   \n",
              "...                                                  ...        ...   \n",
              "19312               Miscellaneous|Party|Party / Minigame        2.5   \n",
              "19313  Racing|Motocross|Action Adventure|General|Mode...        1.4   \n",
              "19314                 Action|Shooter|Arcade|First-Person        4.5   \n",
              "19315        Action|Static|Shooter|Top-Down|Shoot-'Em-Up        8.3   \n",
              "19316                                 Action|3D|Fighting        7.9   \n",
              "\n",
              "       platform_DS  platform_Dreamcast  platform_Game Boy Advance  \\\n",
              "0            False               False                      False   \n",
              "1            False                True                      False   \n",
              "2            False               False                      False   \n",
              "3            False               False                      False   \n",
              "4            False               False                      False   \n",
              "...            ...                 ...                        ...   \n",
              "19312        False               False                      False   \n",
              "19313        False               False                      False   \n",
              "19314        False               False                      False   \n",
              "19315        False               False                      False   \n",
              "19316        False               False                      False   \n",
              "\n",
              "       platform_GameCube  platform_Nintendo 64  platform_PC  platform_PSP  \\\n",
              "0                  False                 False        False         False   \n",
              "1                  False                 False        False         False   \n",
              "2                  False                 False        False         False   \n",
              "3                  False                 False        False         False   \n",
              "4                  False                 False        False         False   \n",
              "...                  ...                   ...          ...           ...   \n",
              "19312              False                 False        False         False   \n",
              "19313              False                 False         True         False   \n",
              "19314              False                 False         True         False   \n",
              "19315              False                 False        False         False   \n",
              "19316              False                 False        False         False   \n",
              "\n",
              "       ...  Virtual  Virtual Life  Visual Novel  Volleyball  WWI  WWII  \\\n",
              "0      ...        0             0             0           0    0     0   \n",
              "1      ...        0             0             0           0    0     0   \n",
              "2      ...        0             0             0           0    0     0   \n",
              "3      ...        0             0             0           0    0     0   \n",
              "4      ...        0             0             0           0    0     0   \n",
              "...    ...      ...           ...           ...         ...  ...   ...   \n",
              "19312  ...        0             0             0           0    0     0   \n",
              "19313  ...        0             0             0           0    0     0   \n",
              "19314  ...        0             0             0           0    0     0   \n",
              "19315  ...        0             0             0           0    0     0   \n",
              "19316  ...        0             0             0           0    0     0   \n",
              "\n",
              "       Wakeboarding  Wargame  Western-Style  Wrestling  \n",
              "0                 0        0              0          0  \n",
              "1                 0        0              0          0  \n",
              "2                 0        0              0          0  \n",
              "3                 0        0              0          0  \n",
              "4                 0        0              0          0  \n",
              "...             ...      ...            ...        ...  \n",
              "19312             0        0              0          0  \n",
              "19313             0        0              0          0  \n",
              "19314             0        0              0          0  \n",
              "19315             0        0              0          0  \n",
              "19316             0        0              0          0  \n",
              "\n",
              "[17929 rows x 246 columns]"
            ],
            "text/html": [
              "\n",
              "  <div id=\"df-8853e89e-2b97-4a51-9429-fdedc9bc25ea\" class=\"colab-df-container\">\n",
              "    <div>\n",
              "<style scoped>\n",
              "    .dataframe tbody tr th:only-of-type {\n",
              "        vertical-align: middle;\n",
              "    }\n",
              "\n",
              "    .dataframe tbody tr th {\n",
              "        vertical-align: top;\n",
              "    }\n",
              "\n",
              "    .dataframe thead th {\n",
              "        text-align: right;\n",
              "    }\n",
              "</style>\n",
              "<table border=\"1\" class=\"dataframe\">\n",
              "  <thead>\n",
              "    <tr style=\"text-align: right;\">\n",
              "      <th></th>\n",
              "      <th>title</th>\n",
              "      <th>genre</th>\n",
              "      <th>userscore</th>\n",
              "      <th>platform_DS</th>\n",
              "      <th>platform_Dreamcast</th>\n",
              "      <th>platform_Game Boy Advance</th>\n",
              "      <th>platform_GameCube</th>\n",
              "      <th>platform_Nintendo 64</th>\n",
              "      <th>platform_PC</th>\n",
              "      <th>platform_PSP</th>\n",
              "      <th>...</th>\n",
              "      <th>Virtual</th>\n",
              "      <th>Virtual Life</th>\n",
              "      <th>Visual Novel</th>\n",
              "      <th>Volleyball</th>\n",
              "      <th>WWI</th>\n",
              "      <th>WWII</th>\n",
              "      <th>Wakeboarding</th>\n",
              "      <th>Wargame</th>\n",
              "      <th>Western-Style</th>\n",
              "      <th>Wrestling</th>\n",
              "    </tr>\n",
              "  </thead>\n",
              "  <tbody>\n",
              "    <tr>\n",
              "      <th>0</th>\n",
              "      <td>Burnout 3: Takedown</td>\n",
              "      <td>Racing|Arcade|Driving</td>\n",
              "      <td>7.7</td>\n",
              "      <td>False</td>\n",
              "      <td>False</td>\n",
              "      <td>False</td>\n",
              "      <td>False</td>\n",
              "      <td>False</td>\n",
              "      <td>False</td>\n",
              "      <td>False</td>\n",
              "      <td>...</td>\n",
              "      <td>0</td>\n",
              "      <td>0</td>\n",
              "      <td>0</td>\n",
              "      <td>0</td>\n",
              "      <td>0</td>\n",
              "      <td>0</td>\n",
              "      <td>0</td>\n",
              "      <td>0</td>\n",
              "      <td>0</td>\n",
              "      <td>0</td>\n",
              "    </tr>\n",
              "    <tr>\n",
              "      <th>1</th>\n",
              "      <td>Jet Grind Radio</td>\n",
              "      <td>Action|Platformer|3D</td>\n",
              "      <td>8.3</td>\n",
              "      <td>False</td>\n",
              "      <td>True</td>\n",
              "      <td>False</td>\n",
              "      <td>False</td>\n",
              "      <td>False</td>\n",
              "      <td>False</td>\n",
              "      <td>False</td>\n",
              "      <td>...</td>\n",
              "      <td>0</td>\n",
              "      <td>0</td>\n",
              "      <td>0</td>\n",
              "      <td>0</td>\n",
              "      <td>0</td>\n",
              "      <td>0</td>\n",
              "      <td>0</td>\n",
              "      <td>0</td>\n",
              "      <td>0</td>\n",
              "      <td>0</td>\n",
              "    </tr>\n",
              "    <tr>\n",
              "      <th>2</th>\n",
              "      <td>Metal Gear Solid 4: Guns of the Patriots</td>\n",
              "      <td>Modern|Action Adventure|General</td>\n",
              "      <td>8.8</td>\n",
              "      <td>False</td>\n",
              "      <td>False</td>\n",
              "      <td>False</td>\n",
              "      <td>False</td>\n",
              "      <td>False</td>\n",
              "      <td>False</td>\n",
              "      <td>False</td>\n",
              "      <td>...</td>\n",
              "      <td>0</td>\n",
              "      <td>0</td>\n",
              "      <td>0</td>\n",
              "      <td>0</td>\n",
              "      <td>0</td>\n",
              "      <td>0</td>\n",
              "      <td>0</td>\n",
              "      <td>0</td>\n",
              "      <td>0</td>\n",
              "      <td>0</td>\n",
              "    </tr>\n",
              "    <tr>\n",
              "      <th>3</th>\n",
              "      <td>Tom Clancy's Splinter Cell Chaos Theory</td>\n",
              "      <td>Modern|Action Adventure</td>\n",
              "      <td>9.1</td>\n",
              "      <td>False</td>\n",
              "      <td>False</td>\n",
              "      <td>False</td>\n",
              "      <td>False</td>\n",
              "      <td>False</td>\n",
              "      <td>False</td>\n",
              "      <td>False</td>\n",
              "      <td>...</td>\n",
              "      <td>0</td>\n",
              "      <td>0</td>\n",
              "      <td>0</td>\n",
              "      <td>0</td>\n",
              "      <td>0</td>\n",
              "      <td>0</td>\n",
              "      <td>0</td>\n",
              "      <td>0</td>\n",
              "      <td>0</td>\n",
              "      <td>0</td>\n",
              "    </tr>\n",
              "    <tr>\n",
              "      <th>4</th>\n",
              "      <td>Call of Duty: Modern Warfare 2</td>\n",
              "      <td>Action|First-Person|Modern|Shooter|Arcade</td>\n",
              "      <td>6.6</td>\n",
              "      <td>False</td>\n",
              "      <td>False</td>\n",
              "      <td>False</td>\n",
              "      <td>False</td>\n",
              "      <td>False</td>\n",
              "      <td>False</td>\n",
              "      <td>False</td>\n",
              "      <td>...</td>\n",
              "      <td>0</td>\n",
              "      <td>0</td>\n",
              "      <td>0</td>\n",
              "      <td>0</td>\n",
              "      <td>0</td>\n",
              "      <td>0</td>\n",
              "      <td>0</td>\n",
              "      <td>0</td>\n",
              "      <td>0</td>\n",
              "      <td>0</td>\n",
              "    </tr>\n",
              "    <tr>\n",
              "      <th>...</th>\n",
              "      <td>...</td>\n",
              "      <td>...</td>\n",
              "      <td>...</td>\n",
              "      <td>...</td>\n",
              "      <td>...</td>\n",
              "      <td>...</td>\n",
              "      <td>...</td>\n",
              "      <td>...</td>\n",
              "      <td>...</td>\n",
              "      <td>...</td>\n",
              "      <td>...</td>\n",
              "      <td>...</td>\n",
              "      <td>...</td>\n",
              "      <td>...</td>\n",
              "      <td>...</td>\n",
              "      <td>...</td>\n",
              "      <td>...</td>\n",
              "      <td>...</td>\n",
              "      <td>...</td>\n",
              "      <td>...</td>\n",
              "      <td>...</td>\n",
              "    </tr>\n",
              "    <tr>\n",
              "      <th>19312</th>\n",
              "      <td>Family Party: 30 Great Games Obstacle Arcade</td>\n",
              "      <td>Miscellaneous|Party|Party / Minigame</td>\n",
              "      <td>2.5</td>\n",
              "      <td>False</td>\n",
              "      <td>False</td>\n",
              "      <td>False</td>\n",
              "      <td>False</td>\n",
              "      <td>False</td>\n",
              "      <td>False</td>\n",
              "      <td>False</td>\n",
              "      <td>...</td>\n",
              "      <td>0</td>\n",
              "      <td>0</td>\n",
              "      <td>0</td>\n",
              "      <td>0</td>\n",
              "      <td>0</td>\n",
              "      <td>0</td>\n",
              "      <td>0</td>\n",
              "      <td>0</td>\n",
              "      <td>0</td>\n",
              "      <td>0</td>\n",
              "    </tr>\n",
              "    <tr>\n",
              "      <th>19313</th>\n",
              "      <td>Ride to Hell: Retribution</td>\n",
              "      <td>Racing|Motocross|Action Adventure|General|Mode...</td>\n",
              "      <td>1.4</td>\n",
              "      <td>False</td>\n",
              "      <td>False</td>\n",
              "      <td>False</td>\n",
              "      <td>False</td>\n",
              "      <td>False</td>\n",
              "      <td>True</td>\n",
              "      <td>False</td>\n",
              "      <td>...</td>\n",
              "      <td>0</td>\n",
              "      <td>0</td>\n",
              "      <td>0</td>\n",
              "      <td>0</td>\n",
              "      <td>0</td>\n",
              "      <td>0</td>\n",
              "      <td>0</td>\n",
              "      <td>0</td>\n",
              "      <td>0</td>\n",
              "      <td>0</td>\n",
              "    </tr>\n",
              "    <tr>\n",
              "      <th>19314</th>\n",
              "      <td>Far Cry 5: Lost on Mars</td>\n",
              "      <td>Action|Shooter|Arcade|First-Person</td>\n",
              "      <td>4.5</td>\n",
              "      <td>False</td>\n",
              "      <td>False</td>\n",
              "      <td>False</td>\n",
              "      <td>False</td>\n",
              "      <td>False</td>\n",
              "      <td>True</td>\n",
              "      <td>False</td>\n",
              "      <td>...</td>\n",
              "      <td>0</td>\n",
              "      <td>0</td>\n",
              "      <td>0</td>\n",
              "      <td>0</td>\n",
              "      <td>0</td>\n",
              "      <td>0</td>\n",
              "      <td>0</td>\n",
              "      <td>0</td>\n",
              "      <td>0</td>\n",
              "      <td>0</td>\n",
              "    </tr>\n",
              "    <tr>\n",
              "      <th>19315</th>\n",
              "      <td>Smash T.V.</td>\n",
              "      <td>Action|Static|Shooter|Top-Down|Shoot-'Em-Up</td>\n",
              "      <td>8.3</td>\n",
              "      <td>False</td>\n",
              "      <td>False</td>\n",
              "      <td>False</td>\n",
              "      <td>False</td>\n",
              "      <td>False</td>\n",
              "      <td>False</td>\n",
              "      <td>False</td>\n",
              "      <td>...</td>\n",
              "      <td>0</td>\n",
              "      <td>0</td>\n",
              "      <td>0</td>\n",
              "      <td>0</td>\n",
              "      <td>0</td>\n",
              "      <td>0</td>\n",
              "      <td>0</td>\n",
              "      <td>0</td>\n",
              "      <td>0</td>\n",
              "      <td>0</td>\n",
              "    </tr>\n",
              "    <tr>\n",
              "      <th>19316</th>\n",
              "      <td>JoJo's Bizarre Adventure: Eyes of Heaven</td>\n",
              "      <td>Action|3D|Fighting</td>\n",
              "      <td>7.9</td>\n",
              "      <td>False</td>\n",
              "      <td>False</td>\n",
              "      <td>False</td>\n",
              "      <td>False</td>\n",
              "      <td>False</td>\n",
              "      <td>False</td>\n",
              "      <td>False</td>\n",
              "      <td>...</td>\n",
              "      <td>0</td>\n",
              "      <td>0</td>\n",
              "      <td>0</td>\n",
              "      <td>0</td>\n",
              "      <td>0</td>\n",
              "      <td>0</td>\n",
              "      <td>0</td>\n",
              "      <td>0</td>\n",
              "      <td>0</td>\n",
              "      <td>0</td>\n",
              "    </tr>\n",
              "  </tbody>\n",
              "</table>\n",
              "<p>17929 rows × 246 columns</p>\n",
              "</div>\n",
              "    <div class=\"colab-df-buttons\">\n",
              "\n",
              "  <div class=\"colab-df-container\">\n",
              "    <button class=\"colab-df-convert\" onclick=\"convertToInteractive('df-8853e89e-2b97-4a51-9429-fdedc9bc25ea')\"\n",
              "            title=\"Convert this dataframe to an interactive table.\"\n",
              "            style=\"display:none;\">\n",
              "\n",
              "  <svg xmlns=\"http://www.w3.org/2000/svg\" height=\"24px\" viewBox=\"0 -960 960 960\">\n",
              "    <path d=\"M120-120v-720h720v720H120Zm60-500h600v-160H180v160Zm220 220h160v-160H400v160Zm0 220h160v-160H400v160ZM180-400h160v-160H180v160Zm440 0h160v-160H620v160ZM180-180h160v-160H180v160Zm440 0h160v-160H620v160Z\"/>\n",
              "  </svg>\n",
              "    </button>\n",
              "\n",
              "  <style>\n",
              "    .colab-df-container {\n",
              "      display:flex;\n",
              "      gap: 12px;\n",
              "    }\n",
              "\n",
              "    .colab-df-convert {\n",
              "      background-color: #E8F0FE;\n",
              "      border: none;\n",
              "      border-radius: 50%;\n",
              "      cursor: pointer;\n",
              "      display: none;\n",
              "      fill: #1967D2;\n",
              "      height: 32px;\n",
              "      padding: 0 0 0 0;\n",
              "      width: 32px;\n",
              "    }\n",
              "\n",
              "    .colab-df-convert:hover {\n",
              "      background-color: #E2EBFA;\n",
              "      box-shadow: 0px 1px 2px rgba(60, 64, 67, 0.3), 0px 1px 3px 1px rgba(60, 64, 67, 0.15);\n",
              "      fill: #174EA6;\n",
              "    }\n",
              "\n",
              "    .colab-df-buttons div {\n",
              "      margin-bottom: 4px;\n",
              "    }\n",
              "\n",
              "    [theme=dark] .colab-df-convert {\n",
              "      background-color: #3B4455;\n",
              "      fill: #D2E3FC;\n",
              "    }\n",
              "\n",
              "    [theme=dark] .colab-df-convert:hover {\n",
              "      background-color: #434B5C;\n",
              "      box-shadow: 0px 1px 3px 1px rgba(0, 0, 0, 0.15);\n",
              "      filter: drop-shadow(0px 1px 2px rgba(0, 0, 0, 0.3));\n",
              "      fill: #FFFFFF;\n",
              "    }\n",
              "  </style>\n",
              "\n",
              "    <script>\n",
              "      const buttonEl =\n",
              "        document.querySelector('#df-8853e89e-2b97-4a51-9429-fdedc9bc25ea button.colab-df-convert');\n",
              "      buttonEl.style.display =\n",
              "        google.colab.kernel.accessAllowed ? 'block' : 'none';\n",
              "\n",
              "      async function convertToInteractive(key) {\n",
              "        const element = document.querySelector('#df-8853e89e-2b97-4a51-9429-fdedc9bc25ea');\n",
              "        const dataTable =\n",
              "          await google.colab.kernel.invokeFunction('convertToInteractive',\n",
              "                                                    [key], {});\n",
              "        if (!dataTable) return;\n",
              "\n",
              "        const docLinkHtml = 'Like what you see? Visit the ' +\n",
              "          '<a target=\"_blank\" href=https://colab.research.google.com/notebooks/data_table.ipynb>data table notebook</a>'\n",
              "          + ' to learn more about interactive tables.';\n",
              "        element.innerHTML = '';\n",
              "        dataTable['output_type'] = 'display_data';\n",
              "        await google.colab.output.renderOutput(dataTable, element);\n",
              "        const docLink = document.createElement('div');\n",
              "        docLink.innerHTML = docLinkHtml;\n",
              "        element.appendChild(docLink);\n",
              "      }\n",
              "    </script>\n",
              "  </div>\n",
              "\n",
              "\n",
              "<div id=\"df-c7ce949d-a8db-45f2-98f4-fcc1a69a7792\">\n",
              "  <button class=\"colab-df-quickchart\" onclick=\"quickchart('df-c7ce949d-a8db-45f2-98f4-fcc1a69a7792')\"\n",
              "            title=\"Suggest charts\"\n",
              "            style=\"display:none;\">\n",
              "\n",
              "<svg xmlns=\"http://www.w3.org/2000/svg\" height=\"24px\"viewBox=\"0 0 24 24\"\n",
              "     width=\"24px\">\n",
              "    <g>\n",
              "        <path d=\"M19 3H5c-1.1 0-2 .9-2 2v14c0 1.1.9 2 2 2h14c1.1 0 2-.9 2-2V5c0-1.1-.9-2-2-2zM9 17H7v-7h2v7zm4 0h-2V7h2v10zm4 0h-2v-4h2v4z\"/>\n",
              "    </g>\n",
              "</svg>\n",
              "  </button>\n",
              "\n",
              "<style>\n",
              "  .colab-df-quickchart {\n",
              "      --bg-color: #E8F0FE;\n",
              "      --fill-color: #1967D2;\n",
              "      --hover-bg-color: #E2EBFA;\n",
              "      --hover-fill-color: #174EA6;\n",
              "      --disabled-fill-color: #AAA;\n",
              "      --disabled-bg-color: #DDD;\n",
              "  }\n",
              "\n",
              "  [theme=dark] .colab-df-quickchart {\n",
              "      --bg-color: #3B4455;\n",
              "      --fill-color: #D2E3FC;\n",
              "      --hover-bg-color: #434B5C;\n",
              "      --hover-fill-color: #FFFFFF;\n",
              "      --disabled-bg-color: #3B4455;\n",
              "      --disabled-fill-color: #666;\n",
              "  }\n",
              "\n",
              "  .colab-df-quickchart {\n",
              "    background-color: var(--bg-color);\n",
              "    border: none;\n",
              "    border-radius: 50%;\n",
              "    cursor: pointer;\n",
              "    display: none;\n",
              "    fill: var(--fill-color);\n",
              "    height: 32px;\n",
              "    padding: 0;\n",
              "    width: 32px;\n",
              "  }\n",
              "\n",
              "  .colab-df-quickchart:hover {\n",
              "    background-color: var(--hover-bg-color);\n",
              "    box-shadow: 0 1px 2px rgba(60, 64, 67, 0.3), 0 1px 3px 1px rgba(60, 64, 67, 0.15);\n",
              "    fill: var(--button-hover-fill-color);\n",
              "  }\n",
              "\n",
              "  .colab-df-quickchart-complete:disabled,\n",
              "  .colab-df-quickchart-complete:disabled:hover {\n",
              "    background-color: var(--disabled-bg-color);\n",
              "    fill: var(--disabled-fill-color);\n",
              "    box-shadow: none;\n",
              "  }\n",
              "\n",
              "  .colab-df-spinner {\n",
              "    border: 2px solid var(--fill-color);\n",
              "    border-color: transparent;\n",
              "    border-bottom-color: var(--fill-color);\n",
              "    animation:\n",
              "      spin 1s steps(1) infinite;\n",
              "  }\n",
              "\n",
              "  @keyframes spin {\n",
              "    0% {\n",
              "      border-color: transparent;\n",
              "      border-bottom-color: var(--fill-color);\n",
              "      border-left-color: var(--fill-color);\n",
              "    }\n",
              "    20% {\n",
              "      border-color: transparent;\n",
              "      border-left-color: var(--fill-color);\n",
              "      border-top-color: var(--fill-color);\n",
              "    }\n",
              "    30% {\n",
              "      border-color: transparent;\n",
              "      border-left-color: var(--fill-color);\n",
              "      border-top-color: var(--fill-color);\n",
              "      border-right-color: var(--fill-color);\n",
              "    }\n",
              "    40% {\n",
              "      border-color: transparent;\n",
              "      border-right-color: var(--fill-color);\n",
              "      border-top-color: var(--fill-color);\n",
              "    }\n",
              "    60% {\n",
              "      border-color: transparent;\n",
              "      border-right-color: var(--fill-color);\n",
              "    }\n",
              "    80% {\n",
              "      border-color: transparent;\n",
              "      border-right-color: var(--fill-color);\n",
              "      border-bottom-color: var(--fill-color);\n",
              "    }\n",
              "    90% {\n",
              "      border-color: transparent;\n",
              "      border-bottom-color: var(--fill-color);\n",
              "    }\n",
              "  }\n",
              "</style>\n",
              "\n",
              "  <script>\n",
              "    async function quickchart(key) {\n",
              "      const quickchartButtonEl =\n",
              "        document.querySelector('#' + key + ' button');\n",
              "      quickchartButtonEl.disabled = true;  // To prevent multiple clicks.\n",
              "      quickchartButtonEl.classList.add('colab-df-spinner');\n",
              "      try {\n",
              "        const charts = await google.colab.kernel.invokeFunction(\n",
              "            'suggestCharts', [key], {});\n",
              "      } catch (error) {\n",
              "        console.error('Error during call to suggestCharts:', error);\n",
              "      }\n",
              "      quickchartButtonEl.classList.remove('colab-df-spinner');\n",
              "      quickchartButtonEl.classList.add('colab-df-quickchart-complete');\n",
              "    }\n",
              "    (() => {\n",
              "      let quickchartButtonEl =\n",
              "        document.querySelector('#df-c7ce949d-a8db-45f2-98f4-fcc1a69a7792 button');\n",
              "      quickchartButtonEl.style.display =\n",
              "        google.colab.kernel.accessAllowed ? 'block' : 'none';\n",
              "    })();\n",
              "  </script>\n",
              "</div>\n",
              "    </div>\n",
              "  </div>\n"
            ],
            "application/vnd.google.colaboratory.intrinsic+json": {
              "type": "dataframe",
              "variable_name": "prediction_df"
            }
          },
          "metadata": {},
          "execution_count": 14
        }
      ]
    },
    {
      "cell_type": "markdown",
      "source": [
        "# Модель линейной регрессии"
      ],
      "metadata": {
        "id": "g5gE8WkeGqLj"
      }
    },
    {
      "cell_type": "markdown",
      "source": [
        "Сделаем копию обработанного датасета и выделим матрицу признаков и столбец таргетов. Пока что отделим от датасета строчки с уникальным значением таргета."
      ],
      "metadata": {
        "id": "t7mX6ri2WQ9u"
      }
    },
    {
      "cell_type": "code",
      "source": [
        "X = prediction_df.copy()\n",
        "\n",
        "X = X.drop(columns=['title', 'genre'])\n",
        "\n",
        "unique = X[X['userscore'].map(X['userscore'].value_counts()) == 1]\n",
        "X = X[~X.index.isin(unique.index)]\n",
        "\n",
        "unique = unique.reset_index(drop = True)\n",
        "X = X.reset_index(drop = True)\n",
        "\n",
        "y = X['userscore'] # target column\n",
        "X = X.drop(columns='userscore') # feature matrix"
      ],
      "metadata": {
        "id": "lIYU0FOZWXwH"
      },
      "execution_count": 15,
      "outputs": []
    },
    {
      "cell_type": "markdown",
      "source": [
        "Разделим датасет на обучающую и тестовую выборки. Используем параметр stratify, чтобы распределение данных в обучающей и тестовой выборках были одинаковыми. Добавим к обучающей выборке уникальные строчки."
      ],
      "metadata": {
        "id": "ZhFKBNYqG0Un"
      }
    },
    {
      "cell_type": "code",
      "source": [
        "X_train, X_test, y_train, y_test = skms.train_test_split(X, y, test_size=0.2, random_state=2, stratify=y)\n",
        "\n",
        "X_train = pd.concat([X_train, unique.drop(columns='userscore')])\n",
        "y_train = pd.concat([y_train, unique['userscore']])\n",
        "X_train = X_train.reset_index(drop = True)\n",
        "y_train = y_train.reset_index(drop = True)"
      ],
      "metadata": {
        "id": "4rFmFdsTWuv3"
      },
      "execution_count": 16,
      "outputs": []
    },
    {
      "cell_type": "markdown",
      "source": [
        "Проведем стандартизацию данных: удалим среднее и масштабируем дисперсию к единице.\n"
      ],
      "metadata": {
        "id": "5NR7teuXXjQE"
      }
    },
    {
      "cell_type": "code",
      "source": [
        "scaler = sklp.StandardScaler()\n",
        "\n",
        "X_train = scaler.fit_transform(X_train)\n",
        "X_test = scaler.transform(X_test)"
      ],
      "metadata": {
        "id": "xiD5r3Pv56J6"
      },
      "execution_count": 17,
      "outputs": []
    },
    {
      "cell_type": "markdown",
      "source": [
        "Обучим линейную модельи посчитаем ошибки на обучающей и тестовой выборках:"
      ],
      "metadata": {
        "id": "jlhR3bjcYfot"
      }
    },
    {
      "cell_type": "code",
      "source": [
        "model = sklm.LinearRegression()\n",
        "model.fit(X_train, y_train)\n",
        "\n",
        "y_pred = model.predict(X_test)\n",
        "\n",
        "print('Errors on test data:')\n",
        "\n",
        "mape_test = skmtr.mean_absolute_percentage_error(y_test, y_pred)\n",
        "print(f\"MAPE: {mae_test:.6f}\")\n",
        "\n",
        "rmse_test = np.sqrt(skmtr.mean_squared_error(y_test, y_pred))\n",
        "print(f\"RMSE: {mse_test:.6f}\")\n",
        "\n",
        "y_pred_train = model.predict(X_train)\n",
        "\n",
        "print('Errors on train data:')\n",
        "\n",
        "mape_train = skmtr.mean_absolute_percentage_error(y_train, y_pred_train)\n",
        "print(f\"MAPE: {mae_train:.6f}\")\n",
        "\n",
        "rmse_train = np.sqrt(skmtr.mean_squared_error(y_train, y_pred_train))\n",
        "print(f\"RMSE: {mse_train:.6f}\")"
      ],
      "metadata": {
        "colab": {
          "base_uri": "https://localhost:8080/"
        },
        "id": "hLR1tQ4aYPwx",
        "outputId": "6089356c-8ee1-4246-8ed2-ae5aa7cc17b7"
      },
      "execution_count": 18,
      "outputs": [
        {
          "output_type": "stream",
          "name": "stdout",
          "text": [
            "Errors on test data:\n",
            "MAPE: 0.176885\n",
            "RMSE: 1.259128\n",
            "Errors on train data:\n",
            "MAPE: 0.176014\n",
            "RMSE: 1.238280\n"
          ]
        }
      ]
    },
    {
      "cell_type": "markdown",
      "source": [
        "Видим довольно высокую ошибку. Изобразим точность предсказаний:"
      ],
      "metadata": {
        "id": "BxfBoHhdcx7u"
      }
    },
    {
      "cell_type": "code",
      "source": [
        "plt.scatter(y_test, y_pred, alpha=0.5, color='tab:olive')\n",
        "plt.plot([min(y_test), max(y_test)], [min(y_test), max(y_test)], color='red', linestyle='--', label='perfect prediction')\n",
        "plt.legend()\n",
        "plt.xlabel(\"Real values\")\n",
        "plt.ylabel(\"Predicted values\")\n",
        "plt.title(\"Comparison of predictions and real data\")\n",
        "plt.show()"
      ],
      "metadata": {
        "colab": {
          "base_uri": "https://localhost:8080/",
          "height": 472
        },
        "id": "1yinSrBKdERk",
        "outputId": "31a546dd-0664-46c5-c500-7ee11b742256"
      },
      "execution_count": 19,
      "outputs": [
        {
          "output_type": "display_data",
          "data": {
            "text/plain": [
              "<Figure size 640x480 with 1 Axes>"
            ],
            "image/png": "[encoded data removed]"
          },
          "metadata": {}
        }
      ]
    },
    {
      "cell_type": "markdown",
      "source": [
        "Модель плохо обучилась: чаще всего она предсказывает значения в интервале $[60, 80]$. Проверим распределения таргетов:"
      ],
      "metadata": {
        "id": "MmHg2AzLd1Q_"
      }
    },
    {
      "cell_type": "code",
      "source": [
        "fig, axes = plt.subplots(1, 2, figsize=(12, 5))\n",
        "\n",
        "axes[0].hist(y_train, bins=50, color='tab:olive', linewidth=0.8, edgecolor='black')\n",
        "axes[0].set_title(\"Distribution of train targets\")\n",
        "axes[0].set_xlabel(\"Values\")\n",
        "axes[0].set_ylabel('Counts')\n",
        "\n",
        "axes[1].hist(y_test, bins=50, color='tab:olive', linewidth=0.8, edgecolor='black')\n",
        "axes[1].set_title(\"Distribution of test targets\")\n",
        "axes[1].set_xlabel(\"Values\")\n",
        "axes[1].set_ylabel('Counts')\n",
        "\n",
        "plt.show()"
      ],
      "metadata": {
        "colab": {
          "base_uri": "https://localhost:8080/",
          "height": 487
        },
        "id": "yBiu2EVMeLbf",
        "outputId": "0e8cb392-7931-4edc-87a4-8e856c0247a4"
      },
      "execution_count": 21,
      "outputs": [
        {
          "output_type": "display_data",
          "data": {
            "text/plain": [
              "<Figure size 1200x500 with 2 Axes>"
            ],
            "image/png": "[encoded data removed]"
          },
          "metadata": {}
        }
      ]
    },
    {
      "cell_type": "markdown",
      "source": [
        "В данных имеется существенный перекос, то есть большинство игр имеют рейтинг в диапазоне от 60 до 80. Из-за этого обученная модель имеет плохую обобщающую способность."
      ],
      "metadata": {
        "id": "LtjU8qRxfB_0"
      }
    },
    {
      "cell_type": "markdown",
      "source": [
        "# Модель решающего дерева"
      ],
      "metadata": {
        "id": "KNildh1x5dAE"
      }
    },
    {
      "cell_type": "markdown",
      "source": [
        "Попробуем нелинейные модели, которые способны выявить более сложные зависимости в данных. Для начала снова разделим выборки."
      ],
      "metadata": {
        "id": "Nl5TmlfgstuE"
      }
    },
    {
      "cell_type": "code",
      "source": [
        "X = prediction_df.copy()\n",
        "\n",
        "X = X.drop(columns=['title', 'genre'])\n",
        "\n",
        "unique = X[X['userscore'].map(X['userscore'].value_counts()) == 1]\n",
        "X = X[~X.index.isin(unique.index)]\n",
        "\n",
        "unique = unique.reset_index(drop = True)\n",
        "X = X.reset_index(drop = True)\n",
        "\n",
        "y = X['userscore'] # target column\n",
        "X = X.drop(columns='userscore') # feature matrix\n",
        "\n",
        "X_train, X_test, y_train, y_test = skms.train_test_split(X, y, test_size=0.2, random_state=2, stratify=y)\n",
        "\n",
        "X_train = pd.concat([X_train, unique.drop(columns='userscore')])\n",
        "y_train = pd.concat([y_train, unique['userscore']])\n",
        "X_train = X_train.reset_index(drop = True)\n",
        "y_train = y_train.reset_index(drop = True)"
      ],
      "metadata": {
        "id": "av31_9C-6tgw"
      },
      "execution_count": 29,
      "outputs": []
    },
    {
      "cell_type": "markdown",
      "source": [
        "Теперь обучим решающее дерево. Подберем наилучшую его глубину через GridSearchCV и посмотрим на ошибку."
      ],
      "metadata": {
        "id": "lx9eYxMLs-kq"
      }
    },
    {
      "cell_type": "code",
      "source": [
        "max_depth_values = {'max_depth': np.arange(1, 15, 1)}\n",
        "\n",
        "search = GridSearchCV(DecisionTreeRegressor(),\n",
        "                     max_depth_values,\n",
        "                     scoring='neg_root_mean_squared_error',\n",
        "                     cv=10)\n",
        "\n",
        "print('Лучшее значение max_depth:', search.fit(X_train, y_train).best_params_)"
      ],
      "metadata": {
        "colab": {
          "base_uri": "https://localhost:8080/"
        },
        "id": "46mgVK1WHXo5",
        "outputId": "6f18f956-f659-41cf-a688-12c5463bbf57"
      },
      "execution_count": 27,
      "outputs": [
        {
          "output_type": "stream",
          "name": "stdout",
          "text": [
            "Лучшее значение max_depth: {'max_depth': 8}\n"
          ]
        }
      ]
    },
    {
      "cell_type": "code",
      "source": [
        "tree_regressor = DecisionTreeRegressor(max_depth=8)\n",
        "tree_regressor.fit(X_train, y_train)\n",
        "\n",
        "y_pred = tree_regressor.predict(X_test)\n",
        "\n",
        "print('Errors on test data:')\n",
        "\n",
        "mape_test = skmtr.mean_absolute_percentage_error(y_test, y_pred)\n",
        "print(f\"MAPE: {mape_test:.6f}\")\n",
        "\n",
        "rmse_test = np.sqrt(skmtr.mean_squared_error(y_test, y_pred))\n",
        "print(f\"RMSE: {rmse_test:.6f}\")\n",
        "\n",
        "y_pred_train = model.predict(X_train)\n",
        "\n",
        "print('Errors on train data:')\n",
        "\n",
        "mape_train = skmtr.mean_absolute_percentage_error(y_train, y_pred_train)\n",
        "print(f\"MAPE: {mape_train:.6f}\")\n",
        "\n",
        "rmse_train = np.sqrt(skmtr.mean_squared_error(y_train, y_pred_train))\n",
        "print(f\"RMSE: {rmse_train:.6f}\")"
      ],
      "metadata": {
        "colab": {
          "base_uri": "https://localhost:8080/"
        },
        "collapsed": true,
        "id": "PUp92LnTHj7A",
        "outputId": "c9a7af8d-40e8-42a9-d6ea-76eb52325b21"
      },
      "execution_count": 32,
      "outputs": [
        {
          "output_type": "stream",
          "name": "stdout",
          "text": [
            "Errors on test data:\n",
            "MAPE: 0.184493\n",
            "RMSE: 1.309555\n",
            "Errors on train data:\n",
            "MAPE: 0.200137\n",
            "RMSE: 1.396596\n"
          ]
        },
        {
          "output_type": "stream",
          "name": "stderr",
          "text": [
            "/usr/local/lib/python3.11/dist-packages/sklearn/utils/validation.py:2732: UserWarning: X has feature names, but LinearRegression was fitted without feature names\n",
            "  warnings.warn(\n"
          ]
        }
      ]
    },
    {
      "cell_type": "code",
      "source": [
        "plt.scatter(y_test, y_pred, alpha=0.5, color='tab:olive')\n",
        "plt.plot([min(y_test), max(y_test)], [min(y_test), max(y_test)], color='red', linestyle='--', label='perfect prediction')\n",
        "plt.legend()\n",
        "plt.xlabel(\"Real values\")\n",
        "plt.ylabel(\"Predicted values\")\n",
        "plt.title(\"Comparison of predictions and real data\")\n",
        "plt.show()"
      ],
      "metadata": {
        "colab": {
          "base_uri": "https://localhost:8080/",
          "height": 472
        },
        "id": "1fZiQJB7t0Km",
        "outputId": "2486653e-48da-4efc-f113-30abf342ee23"
      },
      "execution_count": 31,
      "outputs": [
        {
          "output_type": "display_data",
          "data": {
            "text/plain": [
              "<Figure size 640x480 with 1 Axes>"
            ],
            "image/png": "[encoded data removed]"
          },
          "metadata": {}
        }
      ]
    },
    {
      "cell_type": "markdown",
      "source": [
        "Видим, что на этих данных дерево обучилось даже хуже линейной модели. Попробуем использовать модель градиентного бустинга. Благодаря итерационности процесса, градиентный бустинг должен улучшить результат одного дерева. Значения гиперпараметров были подобраны локально ввиду низких вычислительных скоростей google colab."
      ],
      "metadata": {
        "id": "irSbBzbAuYi7"
      }
    },
    {
      "cell_type": "code",
      "source": [
        "gb_regr = GradientBoostingRegressor(n_estimators=1000, learning_rate=0.025, max_depth=11, max_features='log2', random_state=42)\n",
        "\n",
        "gb_regr.fit(X_train, y_train)\n",
        "\n",
        "y_pred = gb_regr.predict(X_test)\n",
        "\n",
        "print('Errors on test data:')\n",
        "\n",
        "mape_test = skmtr.mean_absolute_percentage_error(y_test, y_pred)\n",
        "print(f\"MAPE: {mape_test:.6f}\")\n",
        "\n",
        "rmse_test = np.sqrt(skmtr.mean_squared_error(y_test, y_pred))\n",
        "print(f\"RMSE: {rmse_test:.6f}\")\n",
        "\n",
        "y_pred_train = model.predict(X_train)\n",
        "\n",
        "print('Errors on train data:')\n",
        "\n",
        "mape_train = skmtr.mean_absolute_percentage_error(y_train, y_pred_train)\n",
        "print(f\"MAPE: {mape_train:.6f}\")\n",
        "\n",
        "rmse_train = np.sqrt(skmtr.mean_squared_error(y_train, y_pred_train))\n",
        "print(f\"RMSE: {rmse_train:.6f}\")"
      ],
      "metadata": {
        "colab": {
          "base_uri": "https://localhost:8080/"
        },
        "id": "dHqH2MlWgFVX",
        "outputId": "74ef354a-d520-4c45-9177-f740f4fb416d"
      },
      "execution_count": 37,
      "outputs": [
        {
          "output_type": "stream",
          "name": "stdout",
          "text": [
            "Errors on test data:\n",
            "MAPE: 0.166943\n",
            "RMSE: 1.208704\n",
            "Errors on train data:\n",
            "MAPE: 0.200137\n",
            "RMSE: 1.396596\n"
          ]
        },
        {
          "output_type": "stream",
          "name": "stderr",
          "text": [
            "/usr/local/lib/python3.11/dist-packages/sklearn/utils/validation.py:2732: UserWarning: X has feature names, but LinearRegression was fitted without feature names\n",
            "  warnings.warn(\n"
          ]
        }
      ]
    },
    {
      "cell_type": "code",
      "source": [
        "plt.scatter(y_test, y_pred, alpha=0.5, color='tab:olive')\n",
        "plt.plot([min(y_test), max(y_test)], [min(y_test), max(y_test)], color='red', linestyle='--', label='perfect prediction')\n",
        "plt.legend()\n",
        "plt.xlabel(\"Real values\")\n",
        "plt.ylabel(\"Predicted values\")\n",
        "plt.title(\"Comparison of predictions and real data\")\n",
        "plt.show()"
      ],
      "metadata": {
        "colab": {
          "base_uri": "https://localhost:8080/",
          "height": 472
        },
        "id": "1Qhqc-LQvOm8",
        "outputId": "43391a1c-13fc-4faa-e091-e84d73c57b3b"
      },
      "execution_count": 35,
      "outputs": [
        {
          "output_type": "display_data",
          "data": {
            "text/plain": [
              "<Figure size 640x480 with 1 Axes>"
            ],
            "image/png": "[encoded data removed]"
          },
          "metadata": {}
        }
      ]
    },
    {
      "cell_type": "markdown",
      "source": [
        "Качество предсказаний модели улучшилось, но осовная проблема осталась той же. Можно сделать вывод, что используемые данные слишком плохо распределены. Кроме того, так как все используемые признаки категориальны, зависимости довольно условны, что опять же не позволяет нам обучить модель правильно.\n",
        "\n",
        "Теперь имеет смысл добавить к признакам отзывы об игре и проверить, улучшит ли это предсказания моделей."
      ],
      "metadata": {
        "id": "i4pekWwcDTnm"
      }
    }
  ]
}